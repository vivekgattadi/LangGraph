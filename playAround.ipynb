{
 "cells": [
  {
   "cell_type": "code",
   "execution_count": 1,
   "id": "b9c42ac6",
   "metadata": {},
   "outputs": [
    {
     "name": "stdout",
     "output_type": "stream",
     "text": [
      "ram\n"
     ]
    }
   ],
   "source": [
    "print(\"ram\")"
   ]
  },
  {
   "cell_type": "code",
   "execution_count": 6,
   "id": "ee090302",
   "metadata": {},
   "outputs": [
    {
     "name": "stdout",
     "output_type": "stream",
     "text": [
      "{'title': 'Inception', 'year': '201s0', 'rating': 8.8}\n"
     ]
    }
   ],
   "source": [
    "from typing import TypedDict\n",
    "\n",
    "class Movie(TypedDict):\n",
    "    title: str\n",
    "    year: int\n",
    "    rating: float\n",
    "\n",
    "movie = Movie(title=\"Inception\", year=\"201s0\", rating=8.8)\n",
    "print(movie)"
   ]
  },
  {
   "cell_type": "code",
   "execution_count": 5,
   "id": "564305c8",
   "metadata": {},
   "outputs": [
    {
     "data": {
      "text/plain": [
       "dict"
      ]
     },
     "execution_count": 5,
     "metadata": {},
     "output_type": "execute_result"
    }
   ],
   "source": [
    "type(movie)"
   ]
  },
  {
   "cell_type": "code",
   "execution_count": 2,
   "id": "93a1ccdf",
   "metadata": {},
   "outputs": [
    {
     "name": "stdout",
     "output_type": "stream",
     "text": [
      "Hello, 2!\n",
      "Hello, Alice!\n",
      "Hello, Bob!\n",
      "Hello, World!\n"
     ]
    }
   ],
   "source": [
    "from typing import Optional\n",
    "\n",
    "def nice_message(name: Optional[str] = None) -> str:\n",
    "    if name is None:\n",
    "        return \"Hello, World!\"\n",
    "    else:\n",
    "        return f\"Hello, {name}!\"\n",
    "    \n",
    "print(nice_message(2))\n",
    "print(nice_message(\"Alice\"))\n",
    "print(nice_message(name=\"Bob\"))\n",
    "print(nice_message(name=None))"
   ]
  },
  {
   "cell_type": "code",
   "execution_count": 3,
   "id": "da5d8c97",
   "metadata": {},
   "outputs": [
    {
     "name": "stdout",
     "output_type": "stream",
     "text": [
      "The value is: 42\n"
     ]
    }
   ],
   "source": [
    "from typing import Any\n",
    "\n",
    "def print_anything(value: Any) -> None:\n",
    "    print(f\"The value is: {value}\")\n",
    "\n",
    "print_anything(42)"
   ]
  },
  {
   "cell_type": "code",
   "execution_count": 4,
   "id": "29ca419e",
   "metadata": {},
   "outputs": [
    {
     "name": "stdout",
     "output_type": "stream",
     "text": [
      "25\n"
     ]
    }
   ],
   "source": [
    "square = lambda x: x * x\n",
    "print(square(5))"
   ]
  },
  {
   "cell_type": "code",
   "execution_count": 5,
   "id": "992a26e3",
   "metadata": {},
   "outputs": [
    {
     "name": "stdout",
     "output_type": "stream",
     "text": [
      "[1, 4, 9, 16, 25]\n"
     ]
    }
   ],
   "source": [
    "nums = [1, 2, 3, 4, 5]\n",
    "squared_nums = list(map(lambda x: x * x, nums))\n",
    "print(squared_nums)"
   ]
  },
  {
   "cell_type": "markdown",
   "id": "f252c196",
   "metadata": {},
   "source": [
    "## Agent 1"
   ]
  },
  {
   "cell_type": "code",
   "execution_count": 6,
   "id": "875df3d4",
   "metadata": {},
   "outputs": [],
   "source": [
    "from typing import Dict, TypedDict\n",
    "from langgraph.graph import StateGraph"
   ]
  },
  {
   "cell_type": "code",
   "execution_count": 7,
   "id": "8a816db9",
   "metadata": {},
   "outputs": [],
   "source": [
    "class AgentState(TypedDict):\n",
    "    message : str\n",
    "\n",
    "def greeting_node(state: AgentState) -> AgentState:\n",
    "    '''Simple node that adds greeting message to the state '''\n",
    "    state['message'] = \"Hey \" + state['message'] + \" , how are you?\"\n",
    "\n",
    "    return state "
   ]
  },
  {
   "cell_type": "code",
   "execution_count": 13,
   "id": "04de41b0",
   "metadata": {},
   "outputs": [],
   "source": [
    "graph = StateGraph(AgentState)\n",
    "\n",
    "graph.add_node(\"greeter\", greeting_node)\n",
    "graph.set_entry_point(\"greeter\")\n",
    "graph.set_finish_point(\"greeter\")\n",
    "\n",
    "app = graph.compile()"
   ]
  },
  {
   "cell_type": "code",
   "execution_count": 9,
   "id": "f5ecfb35",
   "metadata": {},
   "outputs": [
    {
     "data": {
      "image/png": "[encoded data removed]",
      "text/plain": [
       "<IPython.core.display.Image object>"
      ]
     },
     "metadata": {},
     "output_type": "display_data"
    }
   ],
   "source": [
    "from IPython.display import Image, display\n",
    "display(Image(app.get_graph().draw_mermaid_png()))"
   ]
  },
  {
   "cell_type": "code",
   "execution_count": 16,
   "id": "ba0f83bd",
   "metadata": {},
   "outputs": [
    {
     "data": {
      "text/plain": [
       "{'message': 'Hey Ram , how are you?'}"
      ]
     },
     "execution_count": 16,
     "metadata": {},
     "output_type": "execute_result"
    }
   ],
   "source": [
    "result = app.invoke({'message': \"Ram\"})\n",
    "result"
   ]
  },
  {
   "cell_type": "code",
   "execution_count": 17,
   "id": "5073e83b",
   "metadata": {},
   "outputs": [
    {
     "data": {
      "text/plain": [
       "dict"
      ]
     },
     "execution_count": 17,
     "metadata": {},
     "output_type": "execute_result"
    }
   ],
   "source": [
    "type(result)"
   ]
  },
  {
   "cell_type": "markdown",
   "id": "4ffdbf3e",
   "metadata": {},
   "source": [
    "## Agent 2"
   ]
  },
  {
   "cell_type": "code",
   "execution_count": 18,
   "id": "7bda87b3",
   "metadata": {},
   "outputs": [],
   "source": [
    "from typing import List\n",
    "\n",
    "class AgentState(TypedDict):\n",
    "    values: List[int]\n",
    "    name: str\n",
    "    result: str"
   ]
  },
  {
   "cell_type": "code",
   "execution_count": 23,
   "id": "a8d3b858",
   "metadata": {},
   "outputs": [],
   "source": [
    "def process_values(state: AgentState) -> AgentState:\n",
    "    \"\"\"This function handles multiple different inputs\"\"\"\n",
    "\n",
    "    state['result'] = f'Hi there {state[\"name\"]}! Your sum = {sum(state['values'])}'\n",
    "    return state"
   ]
  },
  {
   "cell_type": "code",
   "execution_count": 24,
   "id": "5568f4d9",
   "metadata": {},
   "outputs": [],
   "source": [
    "graph = StateGraph(AgentState)\n",
    "\n",
    "graph.add_node(\"processor\", process_values)\n",
    "graph.set_entry_point(\"processor\")\n",
    "graph.set_finish_point(\"processor\")\n",
    "\n",
    "app = graph.compile()"
   ]
  },
  {
   "cell_type": "code",
   "execution_count": 21,
   "id": "47e7f515",
   "metadata": {},
   "outputs": [
    {
     "data": {
      "image/png": "[encoded data removed]",
      "text/plain": [
       "<IPython.core.display.Image object>"
      ]
     },
     "metadata": {},
     "output_type": "display_data"
    }
   ],
   "source": [
    "display(Image(app.get_graph().draw_mermaid_png()))"
   ]
  },
  {
   "cell_type": "code",
   "execution_count": 25,
   "id": "7f5fad6f",
   "metadata": {},
   "outputs": [
    {
     "data": {
      "text/plain": [
       "{'values': [1, 2, 3, 4],\n",
       " 'name': 'Ram',\n",
       " 'result': 'Hi there Ram! Your sum = 10'}"
      ]
     },
     "execution_count": 25,
     "metadata": {},
     "output_type": "execute_result"
    }
   ],
   "source": [
    "answer = app.invoke({\"values\": [1,2,3,4], \"name\": \"Ram\"})\n",
    "answer"
   ]
  },
  {
   "cell_type": "markdown",
   "id": "297c3344",
   "metadata": {},
   "source": [
    "### Exercise 2"
   ]
  },
  {
   "cell_type": "code",
   "execution_count": 26,
   "id": "3b3c5634",
   "metadata": {},
   "outputs": [],
   "source": [
    "import math\n",
    "class AgentState(TypedDict):\n",
    "    name : str\n",
    "    values : List[int]\n",
    "    operation : str\n",
    "    result : str\n",
    "\n",
    "\n",
    "def process_values(state: AgentState) -> AgentState:\n",
    "    \"\"\"This function handles multiple different inputs\"\"\"\n",
    "    \n",
    "    if state['operation'] == '+':\n",
    "        state['result'] = f\"Hi {state['name']}, your answer is: {sum(state['values'])}\"\n",
    "    \n",
    "    elif state['operation'] == '*':\n",
    "        state['result'] = f\"Hi {state['name']}, your answer is: {math.prod(state['values'])}\"\n",
    "\n",
    "    else:\n",
    "        state['result'] = 'Invalid!'\n",
    "\n",
    "    return state"
   ]
  },
  {
   "cell_type": "code",
   "execution_count": 27,
   "id": "53661e3b",
   "metadata": {},
   "outputs": [],
   "source": [
    "graph = StateGraph(AgentState)\n",
    "\n",
    "graph.add_node(\"processor\", process_values)\n",
    "graph.set_entry_point(\"processor\")\n",
    "graph.set_finish_point(\"processor\")\n",
    "\n",
    "app = graph.compile()"
   ]
  },
  {
   "cell_type": "code",
   "execution_count": 28,
   "id": "3f15be62",
   "metadata": {},
   "outputs": [
    {
     "data": {
      "image/png": "[encoded data removed]",
      "text/plain": [
       "<IPython.core.display.Image object>"
      ]
     },
     "metadata": {},
     "output_type": "display_data"
    }
   ],
   "source": [
    "display(Image(app.get_graph().draw_mermaid_png()))"
   ]
  },
  {
   "cell_type": "code",
   "execution_count": 31,
   "id": "5691e216",
   "metadata": {},
   "outputs": [
    {
     "data": {
      "text/plain": [
       "{'name': 'Jack Sparrow',\n",
       " 'values': [1, 2, 3, 4],\n",
       " 'operation': '0',\n",
       " 'result': 'Invalid!'}"
      ]
     },
     "execution_count": 31,
     "metadata": {},
     "output_type": "execute_result"
    }
   ],
   "source": [
    "answers = app.invoke({\"name\": \"Jack Sparrow\",\"values\": [1,2,3,4] , \"operation\": \"0\"})\n",
    "answers"
   ]
  },
  {
   "cell_type": "markdown",
   "id": "01ef4a6f",
   "metadata": {},
   "source": [
    "## Agent 3"
   ]
  },
  {
   "cell_type": "code",
   "execution_count": 33,
   "id": "c46561d8",
   "metadata": {},
   "outputs": [],
   "source": [
    "class AgentState(TypedDict):\n",
    "    name: str\n",
    "    age : str\n",
    "    final : str"
   ]
  },
  {
   "cell_type": "code",
   "execution_count": 38,
   "id": "e3e40971",
   "metadata": {},
   "outputs": [],
   "source": [
    "def first_node(state: AgentState) -> AgentState:\n",
    "    \"\"\"This is the first node of the Sequence\"\"\"\n",
    "\n",
    "    state['final'] = f\"Hi {state['name']}\"\n",
    "\n",
    "    return state\n",
    "\n",
    "def second_node(state: AgentState) -> AgentState:\n",
    "    \"\"\"This is the second node of the Sequence\"\"\"\n",
    "\n",
    "    state['final'] = state['final'] + f\" You are {state['age']} years old!\"\n",
    "\n",
    "    return state"
   ]
  },
  {
   "cell_type": "code",
   "execution_count": 40,
   "id": "7bc05031",
   "metadata": {},
   "outputs": [],
   "source": [
    "graph = StateGraph(AgentState)\n",
    "\n",
    "graph.add_node(\"first_node\",first_node)\n",
    "graph.add_node(\"second_node\", second_node)\n",
    "\n",
    "graph.set_entry_point(\"first_node\")\n",
    "graph.add_edge(\"first_node\", \"second_node\")\n",
    "graph.set_finish_point(\"second_node\")\n",
    "\n",
    "app = graph.compile()"
   ]
  },
  {
   "cell_type": "code",
   "execution_count": 36,
   "id": "2844658b",
   "metadata": {},
   "outputs": [
    {
     "data": {
      "image/png": "[encoded data removed]",
      "text/plain": [
       "<IPython.core.display.Image object>"
      ]
     },
     "metadata": {},
     "output_type": "display_data"
    }
   ],
   "source": [
    "display(Image(app.get_graph().draw_mermaid_png()))"
   ]
  },
  {
   "cell_type": "code",
   "execution_count": 43,
   "id": "f7a9ae32",
   "metadata": {},
   "outputs": [
    {
     "data": {
      "text/plain": [
       "{'name': 'Man', 'age': 20, 'final': 'Hi Man You are 20 years old!'}"
      ]
     },
     "execution_count": 43,
     "metadata": {},
     "output_type": "execute_result"
    }
   ],
   "source": [
    "result = app.invoke({\"name\": \"Man\", \"age\": 20})\n",
    "result"
   ]
  },
  {
   "cell_type": "markdown",
   "id": "e948777d",
   "metadata": {},
   "source": [
    "### Exercise 3"
   ]
  },
  {
   "cell_type": "code",
   "execution_count": 45,
   "id": "2880a1ed",
   "metadata": {},
   "outputs": [],
   "source": [
    "class AgentState(TypedDict):\n",
    "    name: str\n",
    "    age : str\n",
    "    skills : List[str]\n",
    "    result : str\n",
    "\n",
    "def first_node(state: AgentState) -> AgentState:\n",
    "    \"\"\"This is the first node of the Sequence\"\"\"\n",
    "\n",
    "    state['result'] = f\"{state['name']} welcome to the system!\"\n",
    "\n",
    "    return state\n",
    "\n",
    "def second_node(state: AgentState) -> AgentState:\n",
    "    \"\"\"This is the second node of the Sequence\"\"\"\n",
    "\n",
    "    state['result'] = state['result'] + f\" You are {state['age']} years old!\"\n",
    "\n",
    "    return state\n",
    "\n",
    "def third_node(state: AgentState) -> AgentState:\n",
    "    \"\"\"This is the third node of the Sequence\"\"\"\n",
    "\n",
    "    state['result'] = state['result'] + f\" You have skills in: {\", \".join(state[\"skills\"])}\"\n",
    "\n",
    "    return state"
   ]
  },
  {
   "cell_type": "code",
   "execution_count": 48,
   "id": "fa187916",
   "metadata": {},
   "outputs": [],
   "source": [
    "graph = StateGraph(AgentState)\n",
    "\n",
    "graph.add_node(\"personalize\", first_node)\n",
    "graph.add_node(\"age_description\", second_node)\n",
    "graph.add_node(\"skills_description\", third_node)\n",
    "\n",
    "graph.set_entry_point(\"personalize\")\n",
    "graph.add_edge(\"personalize\", \"age_description\")\n",
    "graph.add_edge(\"age_description\", \"skills_description\")\n",
    "graph.set_finish_point(\"skills_description\")\n",
    "\n",
    "app = graph.compile()"
   ]
  },
  {
   "cell_type": "code",
   "execution_count": 49,
   "id": "b058034e",
   "metadata": {},
   "outputs": [
    {
     "data": {
      "image/png": "[encoded data removed]",
      "text/plain": [
       "<IPython.core.display.Image object>"
      ]
     },
     "metadata": {},
     "output_type": "display_data"
    }
   ],
   "source": [
    "display(Image(app.get_graph().draw_mermaid_png()))"
   ]
  },
  {
   "cell_type": "code",
   "execution_count": 50,
   "id": "e1a35b64",
   "metadata": {},
   "outputs": [
    {
     "data": {
      "text/plain": [
       "{'name': 'Linda',\n",
       " 'age': 31,\n",
       " 'skills': ['Python', 'Machine Learning', 'LangGraph'],\n",
       " 'result': 'Linda welcome to the system! You are 31 years old! You have skills in: Python, Machine Learning, LangGraph'}"
      ]
     },
     "execution_count": 50,
     "metadata": {},
     "output_type": "execute_result"
    }
   ],
   "source": [
    "result = app.invoke({\"name\": \"Linda\", \"age\": 31, \"skills\":[\"Python\", \"Machine Learning\", \"LangGraph\"]})\n",
    "result"
   ]
  },
  {
   "cell_type": "markdown",
   "id": "a28f491e",
   "metadata": {},
   "source": [
    "## Agent 4"
   ]
  },
  {
   "cell_type": "code",
   "execution_count": 103,
   "id": "274018c7",
   "metadata": {},
   "outputs": [],
   "source": [
    "from typing import TypedDict\n",
    "from langgraph.graph import StateGraph, START, END\n",
    "\n",
    "class AgentState(TypedDict):\n",
    "    number1: int\n",
    "    number2: int\n",
    "    operation: str\n",
    "    finalNumber: int"
   ]
  },
  {
   "cell_type": "code",
   "execution_count": 104,
   "id": "befc500a",
   "metadata": {},
   "outputs": [],
   "source": [
    "def adder(state: AgentState) -> AgentState:\n",
    "    \"\"\"This node adds the 2 numbers\"\"\"\n",
    "\n",
    "    state['finalNumber'] = state['number1'] + state['number2']\n",
    "    return state\n",
    "\n",
    "def subtractor(state: AgentState) -> AgentState:\n",
    "    \"\"\"This node subtracts the 2 numbers\"\"\"\n",
    "\n",
    "    state['finalNumber'] = state['number1'] - state['number2']\n",
    "    return state\n",
    "\n",
    "def decide_next_node(state: AgentState) -> AgentState:\n",
    "    \"\"\"This node will select the next node of the graph\"\"\"\n",
    "\n",
    "    if state['operation'] == '+':\n",
    "        return \"addition_operation\"\n",
    "    \n",
    "    elif state['operation'] == '-':\n",
    "        return \"subtraction_operation\""
   ]
  },
  {
   "cell_type": "code",
   "execution_count": 105,
   "id": "bb9d66ba",
   "metadata": {},
   "outputs": [],
   "source": [
    "graph = StateGraph(AgentState)\n",
    "\n",
    "graph.add_node(\"add_node\", adder)\n",
    "graph.add_node(\"subtract_node\", subtractor)\n",
    "graph.add_node(\"router\", lambda state:state)\n",
    "\n",
    "graph.add_edge(START, \"router\")\n",
    "\n",
    "graph.add_conditional_edges(\n",
    "    \"router\",\n",
    "    decide_next_node,\n",
    "    {\n",
    "        \"addition_operation\" : \"add_node\",\n",
    "        \"subtraction_operation\" : \"subtract_node\"\n",
    "    }\n",
    ")\n",
    "\n",
    "graph.add_edge(\"add_node\", END)\n",
    "graph.add_edge(\"subtract_node\", END)\n",
    "\n",
    "app = graph.compile()"
   ]
  },
  {
   "cell_type": "code",
   "execution_count": 106,
   "id": "04e92d9a",
   "metadata": {},
   "outputs": [
    {
     "data": {
      "image/png": "[encoded data removed]",
      "text/plain": [
       "<IPython.core.display.Image object>"
      ]
     },
     "metadata": {},
     "output_type": "display_data"
    }
   ],
   "source": [
    "display(Image(app.get_graph().draw_mermaid_png()))"
   ]
  },
  {
   "cell_type": "code",
   "execution_count": 107,
   "id": "d1f32908",
   "metadata": {},
   "outputs": [
    {
     "name": "stdout",
     "output_type": "stream",
     "text": [
      "{'number1': 10, 'number2': 5, 'operation': '-', 'finalNumber': 5}\n"
     ]
    }
   ],
   "source": [
    "initial_state_1 = AgentState(number1 = 10, operation=\"-\", number2 = 5)\n",
    "print(app.invoke(initial_state_1))"
   ]
  },
  {
   "cell_type": "code",
   "execution_count": 57,
   "id": "38b7bb82",
   "metadata": {},
   "outputs": [
    {
     "name": "stdout",
     "output_type": "stream",
     "text": [
      "{'number1': 10, 'number2': 5, 'operation': '-', 'finalNumber': 5}\n"
     ]
    }
   ],
   "source": [
    "result = app.invoke({\"number1\": 10, \"operation\": \"-\", \"number2\": 5})\n",
    "print(result)"
   ]
  },
  {
   "cell_type": "markdown",
   "id": "a15f1f00",
   "metadata": {},
   "source": [
    "### Exercise 4"
   ]
  },
  {
   "cell_type": "code",
   "execution_count": 108,
   "id": "50d152e2",
   "metadata": {},
   "outputs": [],
   "source": [
    "class AgentState(TypedDict):\n",
    "    number1: int\n",
    "    number2: int\n",
    "    operation: str\n",
    "    number3: int\n",
    "    number4: int\n",
    "    operation2: str\n",
    "    finalNumber: int\n",
    "    finalNumber2: int"
   ]
  },
  {
   "cell_type": "code",
   "execution_count": null,
   "id": "b769dee2",
   "metadata": {},
   "outputs": [],
   "source": [
    "def adder(state: AgentState) -> AgentState:\n",
    "    \"\"\"This node adds the 2 numbers\"\"\"\n",
    "\n",
    "    state['finalNumber'] = state['number1'] + state['number2']\n",
    "    return state\n",
    "\n",
    "def subtractor(state: AgentState) -> AgentState:\n",
    "    \"\"\"This node subtracts the 2 numbers\"\"\"\n",
    "\n",
    "    state['finalNumber'] = state['number1'] - state['number2']\n",
    "    return state\n",
    "\n",
    "def decide_next_node(state: AgentState) -> AgentState:\n",
    "    \"\"\"This node will select the next node of the graph\"\"\"\n",
    "\n",
    "    if state['operation'] == '+':\n",
    "        return \"addition_operation\"\n",
    "    \n",
    "    elif state['operation'] == '-':\n",
    "        return \"subtraction_operation\"\n",
    "    \n",
    "\n",
    "def adder2(state: AgentState) -> AgentState:\n",
    "    \"\"\"This node adds the 2 numbers\"\"\"\n",
    "\n",
    "    state['finalNumber2'] = state['number3'] + state['number4']\n",
    "    return state\n",
    "\n",
    "def subtractor2(state: AgentState) -> AgentState:\n",
    "    \"\"\"This node subtracts the 2 numbers\"\"\"\n",
    "\n",
    "    state['finalNumber2'] = state['number3'] - state['number4']\n",
    "    return state\n",
    "\n",
    "def decide_next_node2(state: AgentState) -> AgentState:\n",
    "    \"\"\"This node will select the next node of the graph\"\"\"\n",
    "\n",
    "    if state['operation2'] == '+':\n",
    "        return \"addition_operation2\"\n",
    "    \n",
    "    elif state['operation2'] == '-':\n",
    "        return \"subtraction_operation2\""
   ]
  },
  {
   "cell_type": "code",
   "execution_count": 116,
   "id": "cbca281d",
   "metadata": {},
   "outputs": [],
   "source": [
    "graph = StateGraph(AgentState)\n",
    "\n",
    "graph.add_node(\"add_node\", adder)\n",
    "graph.add_node(\"subtract_node\", subtractor)\n",
    "graph.add_node(\"router\", lambda state:state)\n",
    "\n",
    "graph.add_node(\"add_node2\", adder2)\n",
    "graph.add_node(\"subtract_node2\", subtractor2)\n",
    "graph.add_node(\"router2\", lambda state:state)\n",
    "\n",
    "graph.add_edge(START, \"router\")\n",
    "\n",
    "graph.add_conditional_edges(\n",
    "    \"router\",\n",
    "    decide_next_node,\n",
    "    {\n",
    "        \"addition_operation\" : \"add_node\",\n",
    "        \"subtraction_operation\" : \"subtract_node\"\n",
    "    }\n",
    ")\n",
    "\n",
    "graph.add_conditional_edges(\n",
    "    \"router2\",\n",
    "    decide_next_node2,\n",
    "    {\n",
    "        \"addition_operation2\" : \"add_node2\",\n",
    "        \"subtraction_operation2\" : \"subtract_node2\"\n",
    "    }\n",
    ")\n",
    "\n",
    "graph.add_edge(\"add_node\", \"router2\")\n",
    "graph.add_edge(\"subtract_node\", \"router2\")\n",
    "\n",
    "graph.add_edge(\"add_node2\", END)\n",
    "graph.add_edge(\"subtract_node2\", END)\n",
    "\n",
    "app = graph.compile()"
   ]
  },
  {
   "cell_type": "code",
   "execution_count": 117,
   "id": "df89bc25",
   "metadata": {},
   "outputs": [
    {
     "data": {
      "image/png": "[encoded data removed]",
      "text/plain": [
       "<IPython.core.display.Image object>"
      ]
     },
     "metadata": {},
     "output_type": "display_data"
    }
   ],
   "source": [
    "display(Image(app.get_graph().draw_mermaid_png()))"
   ]
  },
  {
   "cell_type": "code",
   "execution_count": 118,
   "id": "d8cf9c8c",
   "metadata": {},
   "outputs": [
    {
     "data": {
      "text/plain": [
       "{'number1': 10,\n",
       " 'number2': 5,\n",
       " 'operation': '-',\n",
       " 'number3': 7,\n",
       " 'number4': 2,\n",
       " 'operation2': '+',\n",
       " 'finalNumber1': 0,\n",
       " 'finalNumber2': 0}"
      ]
     },
     "execution_count": 118,
     "metadata": {},
     "output_type": "execute_result"
    }
   ],
   "source": [
    "initial_state = AgentState(number1 = 10, number2 = 5, operation=\"-\", number3 = 7, number4=2, operation2=\"+\", finalNumber1= 0, finalNumber2 = 0)\n",
    "initial_state"
   ]
  },
  {
   "cell_type": "code",
   "execution_count": 119,
   "id": "4822f783",
   "metadata": {},
   "outputs": [
    {
     "name": "stdout",
     "output_type": "stream",
     "text": [
      "{'number1': 10, 'number2': 5, 'operation': '-', 'number3': 7, 'number4': 2, 'operation2': '+', 'finalNumber': 5, 'finalNumber2': 9}\n"
     ]
    }
   ],
   "source": [
    "print(app.invoke(initial_state))"
   ]
  },
  {
   "cell_type": "markdown",
   "id": "0bb92259",
   "metadata": {},
   "source": [
    "## Agent 5"
   ]
  },
  {
   "cell_type": "code",
   "execution_count": 120,
   "id": "1b1233f2",
   "metadata": {},
   "outputs": [],
   "source": [
    "from langgraph.graph import StateGraph, START, END\n",
    "from typing import Dict, List, TypedDict\n",
    "import random"
   ]
  },
  {
   "cell_type": "code",
   "execution_count": 121,
   "id": "eabd641f",
   "metadata": {},
   "outputs": [],
   "source": [
    "class AgentState(TypedDict):\n",
    "    name: str\n",
    "    number: List[int]\n",
    "    counter: int"
   ]
  },
  {
   "cell_type": "code",
   "execution_count": 126,
   "id": "8c016347",
   "metadata": {},
   "outputs": [],
   "source": [
    "def greeting_node(state: AgentState) -> AgentState:\n",
    "    \"\"\"Greeting Node which says hi to the person\"\"\"\n",
    "    state['name'] = f'Hi there, {state['name']}'\n",
    "    state['counter'] = 0\n",
    "\n",
    "    return state\n",
    "\n",
    "def random_node(state: AgentState) -> AgentState:\n",
    "    \"Generates a random number from 0 to 10\"\n",
    "    state['number'].append(random.randint(0, 10))\n",
    "    state['counter'] += 1\n",
    "\n",
    "    return state\n",
    "\n",
    "def should_continue(state: AgentState) -> AgentState:\n",
    "    \"Function to decide what to do next\"\n",
    "    if state['counter'] < 5:\n",
    "        print(\"ENTERING LOOP: \", state['counter'])\n",
    "        return \"loop\"\n",
    "    else:\n",
    "        return \"exit\""
   ]
  },
  {
   "cell_type": "code",
   "execution_count": 129,
   "id": "6067f181",
   "metadata": {},
   "outputs": [],
   "source": [
    "graph = StateGraph(AgentState)\n",
    "\n",
    "graph.add_node(\"greeting\", greeting_node)\n",
    "graph.add_node(\"random\", random_node)\n",
    "graph.add_edge(\"greeting\", \"random\")\n",
    "\n",
    "graph.add_conditional_edges(\n",
    "    \"random\",\n",
    "    should_continue,\n",
    "    {\n",
    "        \"loop\": \"random\",\n",
    "        \"exit\": END\n",
    "    }\n",
    ")\n",
    "\n",
    "graph.set_entry_point(\"greeting\")\n",
    "app = graph.compile()"
   ]
  },
  {
   "cell_type": "code",
   "execution_count": 130,
   "id": "0c5b39c1",
   "metadata": {},
   "outputs": [
    {
     "data": {
      "image/png": "[encoded data removed]",
      "text/plain": [
       "<IPython.core.display.Image object>"
      ]
     },
     "metadata": {},
     "output_type": "display_data"
    }
   ],
   "source": [
    "display(Image(app.get_graph().draw_mermaid_png()))"
   ]
  },
  {
   "cell_type": "code",
   "execution_count": 132,
   "id": "54fcd739",
   "metadata": {},
   "outputs": [
    {
     "name": "stdout",
     "output_type": "stream",
     "text": [
      "ENTERING LOOP:  1\n",
      "ENTERING LOOP:  2\n",
      "ENTERING LOOP:  3\n",
      "ENTERING LOOP:  4\n"
     ]
    },
    {
     "data": {
      "text/plain": [
       "{'name': 'Hi there, Bhai', 'number': [10, 3, 3, 6, 7], 'counter': 5}"
      ]
     },
     "execution_count": 132,
     "metadata": {},
     "output_type": "execute_result"
    }
   ],
   "source": [
    "app.invoke({\"name\": \"Bhai\", \"number\": []})"
   ]
  },
  {
   "cell_type": "markdown",
   "id": "a68d70d1",
   "metadata": {},
   "source": [
    "### Exercise 5"
   ]
  },
  {
   "cell_type": "code",
   "execution_count": 144,
   "id": "761c34b9",
   "metadata": {},
   "outputs": [],
   "source": [
    "class AgentState(TypedDict):\n",
    "    player_name: str\n",
    "    guesses: List[int]\n",
    "    attempts: int\n",
    "    lower_bound: int\n",
    "    upper_bound: int\n",
    "    hint: str\n",
    "    target_number: int\n"
   ]
  },
  {
   "cell_type": "code",
   "execution_count": 156,
   "id": "3809dd3f",
   "metadata": {},
   "outputs": [],
   "source": [
    "def setup_node(state: AgentState) -> AgentState:\n",
    "    \"\"\"Intilize the game with a random target number\"\"\"\n",
    "    state['player_name'] = f'Welcome, {state['player_name']}'\n",
    "    state['guesses'] = []\n",
    "    state['attempts'] = 0\n",
    "    state['lower_bound'] = 1\n",
    "    state['upper_bound'] = 20\n",
    "    state['hint'] = \"Game Started! Try to guess the number\"\n",
    "    state['target_number'] = random.randint(1, 20)\n",
    "\n",
    "    return state\n",
    "\n",
    "def guess_node(state: AgentState) -> AgentState:\n",
    "    \"\"\"Generate a smarter guess based on previous hints\"\"\"\n",
    "    possible_guesses = [i for i in range(state[\"lower_bound\"], state[\"upper_bound\"] + 1) if i not in state[\"guesses\"]]\n",
    "    \n",
    "    if possible_guesses:\n",
    "        guess = random.choice(possible_guesses)\n",
    "    else:\n",
    "        guess = random.randint(state['lower_bound'], state['upper_bound'])\n",
    "\n",
    "    state[\"guesses\"].append(guess)\n",
    "    state[\"attempts\"] += 1\n",
    "    print(f\"Attempt {state['attempts']}: Guessing {guess} (Current range: {state['lower_bound']}-{state['upper_bound']})\")\n",
    "\n",
    "    return state\n",
    "\n",
    "def hint_node(state: AgentState) -> AgentState:\n",
    "    \"\"\"Here we provide a hint based on the last guess and update the bounds\"\"\"\n",
    "    \n",
    "    latest_guess = state['guesses'][-1]\n",
    "    target = state['target_number']\n",
    "\n",
    "    if latest_guess < target:\n",
    "        state[\"hint\"] = f\"The number {latest_guess} is too low. Try higher!\"\n",
    "        state[\"lower_bound\"] = max(state[\"lower_bound\"], latest_guess + 1)\n",
    "        print(f\"Hint: {state['hint']}\")\n",
    "    \n",
    "    elif latest_guess > target:\n",
    "        state[\"hint\"] = f\"The number {latest_guess} is too high. Try lower!\"\n",
    "        state[\"upper_bound\"] = min(state[\"upper_bound\"], latest_guess - 1)\n",
    "        print(f\"Hint: {state['hint']}\")\n",
    "    else:\n",
    "        state[\"hint\"] = f\"Correct! You found the number {target} in {state['attempts']} attempts.\"\n",
    "        print(f\"Success! {state['hint']}\")\n",
    "    \n",
    "    return state\n",
    "\n",
    "def should_continue(state: AgentState) -> str:\n",
    "    \"\"\"Determine if we should continue guessing or end the game\"\"\"\n",
    "\n",
    "    latest_guess = state['guesses'][-1]\n",
    "    if latest_guess == state['target_number']:\n",
    "        print(f\"GAME OVER: Number found!\")\n",
    "        return \"end\" \n",
    "    \n",
    "    elif state[\"attempts\"] >= 7:\n",
    "        print(f\"GAME OVER: Maximum attempts reached! The number was {state['target_number']}\")\n",
    "        return \"end\"\n",
    "    else:\n",
    "        print(f\"CONTINUING: {state['attempts']}/7 attempts used\")\n",
    "        return \"continue\""
   ]
  },
  {
   "cell_type": "code",
   "execution_count": 157,
   "id": "c0c99c6d",
   "metadata": {},
   "outputs": [],
   "source": [
    "graph = StateGraph(AgentState)\n",
    "graph.add_node(\"setup\", setup_node)\n",
    "graph.add_node(\"guess\", guess_node)\n",
    "graph.add_node(\"hint\", hint_node)\n",
    "\n",
    "graph.add_edge(\"setup\", \"guess\")\n",
    "graph.add_edge(\"guess\", \"hint\")\n",
    "\n",
    "graph.add_conditional_edges(\n",
    "    \"hint\",\n",
    "    should_continue,\n",
    "    {\n",
    "        \"continue\": \"guess\",\n",
    "        \"end\": END\n",
    "    }\n",
    ")\n",
    "\n",
    "graph.set_entry_point(\"setup\")\n",
    "app = graph.compile()"
   ]
  },
  {
   "cell_type": "code",
   "execution_count": 158,
   "id": "73e17833",
   "metadata": {},
   "outputs": [
    {
     "data": {
      "image/png": "[encoded data removed]",
      "text/plain": [
       "<IPython.core.display.Image object>"
      ]
     },
     "metadata": {},
     "output_type": "display_data"
    }
   ],
   "source": [
    "display(Image(app.get_graph().draw_mermaid_png()))"
   ]
  },
  {
   "cell_type": "code",
   "execution_count": 159,
   "id": "7fe5df01",
   "metadata": {},
   "outputs": [
    {
     "name": "stdout",
     "output_type": "stream",
     "text": [
      "Attempt 1: Guessing 3 (Current range: 1-20)\n",
      "Hint: The number 3 is too low. Try higher!\n",
      "CONTINUING: 1/7 attempts used\n",
      "Attempt 2: Guessing 19 (Current range: 4-20)\n",
      "Hint: The number 19 is too high. Try lower!\n",
      "CONTINUING: 2/7 attempts used\n",
      "Attempt 3: Guessing 16 (Current range: 4-18)\n",
      "Hint: The number 16 is too low. Try higher!\n",
      "CONTINUING: 3/7 attempts used\n",
      "Attempt 4: Guessing 18 (Current range: 17-18)\n",
      "Hint: The number 18 is too high. Try lower!\n",
      "CONTINUING: 4/7 attempts used\n",
      "Attempt 5: Guessing 17 (Current range: 17-17)\n",
      "Success! Correct! You found the number 17 in 5 attempts.\n",
      "GAME OVER: Number found!\n"
     ]
    }
   ],
   "source": [
    "result = app.invoke({\"player_name\": \"Student\", \"guesses\": [], \"attempts\": 0, \"lower_bound\": 1, \"upper_bound\": 20})"
   ]
  },
  {
   "cell_type": "code",
   "execution_count": null,
   "id": "edc9b1f9",
   "metadata": {},
   "outputs": [],
   "source": []
  }
 ],
 "metadata": {
  "kernelspec": {
   "display_name": "researchEnv",
   "language": "python",
   "name": "python3"
  },
  "language_info": {
   "codemirror_mode": {
    "name": "ipython",
    "version": 3
   },
   "file_extension": ".py",
   "mimetype": "text/x-python",
   "name": "python",
   "nbconvert_exporter": "python",
   "pygments_lexer": "ipython3",
   "version": "3.13.5"
  }
 },
 "nbformat": 4,
 "nbformat_minor": 5
}
