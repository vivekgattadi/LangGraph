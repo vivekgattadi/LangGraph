{
 "cells": [
  {
   "cell_type": "code",
   "execution_count": 1,
   "id": "b9c42ac6",
   "metadata": {},
   "outputs": [
    {
     "name": "stdout",
     "output_type": "stream",
     "text": [
      "ram\n"
     ]
    }
   ],
   "source": [
    "print(\"ram\")"
   ]
  },
  {
   "cell_type": "code",
   "execution_count": 6,
   "id": "ee090302",
   "metadata": {},
   "outputs": [
    {
     "name": "stdout",
     "output_type": "stream",
     "text": [
      "{'title': 'Inception', 'year': '201s0', 'rating': 8.8}\n"
     ]
    }
   ],
   "source": [
    "from typing import TypedDict\n",
    "\n",
    "class Movie(TypedDict):\n",
    "    title: str\n",
    "    year: int\n",
    "    rating: float\n",
    "\n",
    "movie = Movie(title=\"Inception\", year=\"201s0\", rating=8.8)\n",
    "print(movie)"
   ]
  },
  {
   "cell_type": "code",
   "execution_count": 5,
   "id": "564305c8",
   "metadata": {},
   "outputs": [
    {
     "data": {
      "text/plain": [
       "dict"
      ]
     },
     "execution_count": 5,
     "metadata": {},
     "output_type": "execute_result"
    }
   ],
   "source": [
    "type(movie)"
   ]
  },
  {
   "cell_type": "code",
   "execution_count": 2,
   "id": "93a1ccdf",
   "metadata": {},
   "outputs": [
    {
     "name": "stdout",
     "output_type": "stream",
     "text": [
      "Hello, 2!\n",
      "Hello, Alice!\n",
      "Hello, Bob!\n",
      "Hello, World!\n"
     ]
    }
   ],
   "source": [
    "from typing import Optional\n",
    "\n",
    "def nice_message(name: Optional[str] = None) -> str:\n",
    "    if name is None:\n",
    "        return \"Hello, World!\"\n",
    "    else:\n",
    "        return f\"Hello, {name}!\"\n",
    "    \n",
    "print(nice_message(2))\n",
    "print(nice_message(\"Alice\"))\n",
    "print(nice_message(name=\"Bob\"))\n",
    "print(nice_message(name=None))"
   ]
  },
  {
   "cell_type": "code",
   "execution_count": 3,
   "id": "da5d8c97",
   "metadata": {},
   "outputs": [
    {
     "name": "stdout",
     "output_type": "stream",
     "text": [
      "The value is: 42\n"
     ]
    }
   ],
   "source": [
    "from typing import Any\n",
    "\n",
    "def print_anything(value: Any) -> None:\n",
    "    print(f\"The value is: {value}\")\n",
    "\n",
    "print_anything(42)"
   ]
  },
  {
   "cell_type": "code",
   "execution_count": 4,
   "id": "29ca419e",
   "metadata": {},
   "outputs": [
    {
     "name": "stdout",
     "output_type": "stream",
     "text": [
      "25\n"
     ]
    }
   ],
   "source": [
    "square = lambda x: x * x\n",
    "print(square(5))"
   ]
  },
  {
   "cell_type": "code",
   "execution_count": 5,
   "id": "992a26e3",
   "metadata": {},
   "outputs": [
    {
     "name": "stdout",
     "output_type": "stream",
     "text": [
      "[1, 4, 9, 16, 25]\n"
     ]
    }
   ],
   "source": [
    "nums = [1, 2, 3, 4, 5]\n",
    "squared_nums = list(map(lambda x: x * x, nums))\n",
    "print(squared_nums)"
   ]
  },
  {
   "cell_type": "code",
   "execution_count": null,
   "id": "875df3d4",
   "metadata": {},
   "outputs": [],
   "source": []
  }
 ],
 "metadata": {
  "kernelspec": {
   "display_name": "researchEnv",
   "language": "python",
   "name": "python3"
  },
  "language_info": {
   "codemirror_mode": {
    "name": "ipython",
    "version": 3
   },
   "file_extension": ".py",
   "mimetype": "text/x-python",
   "name": "python",
   "nbconvert_exporter": "python",
   "pygments_lexer": "ipython3",
   "version": "3.13.5"
  }
 },
 "nbformat": 4,
 "nbformat_minor": 5
}
